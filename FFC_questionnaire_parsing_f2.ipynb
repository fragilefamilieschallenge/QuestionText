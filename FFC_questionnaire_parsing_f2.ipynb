{
 "cells": [
  {
   "cell_type": "code",
   "execution_count": null,
   "metadata": {
    "collapsed": true
   },
   "outputs": [],
   "source": [
    "from bs4 import BeautifulSoup\n",
    "import pandas as pd\n",
    "import re\n",
    "import numpy as np"
   ]
  },
  {
   "cell_type": "code",
   "execution_count": null,
   "metadata": {},
   "outputs": [],
   "source": [
    "import sys\n",
    "sys.getdefaultencoding()"
   ]
  },
  {
   "cell_type": "markdown",
   "metadata": {},
   "source": [
    "Open the questionnaire file (word document version of the questionnaire saved as html):"
   ]
  },
  {
   "cell_type": "code",
   "execution_count": null,
   "metadata": {
    "collapsed": true
   },
   "outputs": [],
   "source": [
    "questionnaire_file = open(\"FF_f2_Questionnaire.htm\", \"r\") "
   ]
  },
  {
   "cell_type": "code",
   "execution_count": null,
   "metadata": {
    "collapsed": true
   },
   "outputs": [],
   "source": [
    "soup=BeautifulSoup(questionnaire_file, \"html.parser\")"
   ]
  },
  {
   "cell_type": "code",
   "execution_count": null,
   "metadata": {
    "collapsed": true
   },
   "outputs": [],
   "source": [
    "ps=[p for p in soup.find_all('p')]"
   ]
  },
  {
   "cell_type": "code",
   "execution_count": null,
   "metadata": {},
   "outputs": [],
   "source": [
    "ps[164:168]"
   ]
  },
  {
   "cell_type": "markdown",
   "metadata": {},
   "source": [
    "Opening the excel file with all the questions for p6, using the pandas python library:"
   ]
  },
  {
   "cell_type": "code",
   "execution_count": null,
   "metadata": {
    "collapsed": true
   },
   "outputs": [],
   "source": [
    "df=pd.read_excel(\"FFCf2.xlsx\") #this is an excel file with all the questions for p6"
   ]
  },
  {
   "cell_type": "code",
   "execution_count": null,
   "metadata": {},
   "outputs": [],
   "source": [
    "df.head()"
   ]
  },
  {
   "cell_type": "code",
   "execution_count": null,
   "metadata": {},
   "outputs": [],
   "source": [
    "df.shape"
   ]
  },
  {
   "cell_type": "code",
   "execution_count": null,
   "metadata": {
    "collapsed": true
   },
   "outputs": [],
   "source": [
    "reg = re.compile(r'(?P<section>[A-Za-z]*\\d*)(?P<rest>.*)')\n",
    "\n",
    "def format_q_num(name):\n",
    "    \"\"\"takes in the question numbers in the name column and outputs them in the format\n",
    "    they appear in the text\"\"\"\n",
    "    name=name.lstrip('f2')\n",
    "    name=reg.search(name)\n",
    "    section=name.group('section').upper()\n",
    "    rest=name.group('rest').upper()\n",
    "    return section+rest"
   ]
  },
  {
   "cell_type": "code",
   "execution_count": null,
   "metadata": {
    "collapsed": true
   },
   "outputs": [],
   "source": [
    "df['question_number']=df.name.apply(lambda x: format_q_num(x))"
   ]
  },
  {
   "cell_type": "code",
   "execution_count": null,
   "metadata": {
    "collapsed": true
   },
   "outputs": [],
   "source": [
    "df['multiple_answers']=df.question_number.apply(lambda x: 1 if re.match('[A-Z]\\d*[A-Z]\\d*',x) else 0) \n",
    "#adds a column where 1 indicates that it is one of the questions with multiple entries in the data frame\n",
    "#I think these are mostly (only?) the \"select all that apply\" questions"
   ]
  },
  {
   "cell_type": "code",
   "execution_count": null,
   "metadata": {},
   "outputs": [],
   "source": [
    "df"
   ]
  },
  {
   "cell_type": "code",
   "execution_count": null,
   "metadata": {
    "collapsed": true
   },
   "outputs": [],
   "source": [
    "def find_question(q_number):\n",
    "    \"\"\"finds where the question number appears in the text - only if it only appears once\"\"\"\n",
    "    ps_text = []\n",
    "    ps_idx = []\n",
    "    ps_startswith = []\n",
    "    for idx, p in enumerate(ps):\n",
    "        if re.match('[A-Z]\\d*[A-Z]',q_number):\n",
    "            if q_number in p.get_text():\n",
    "                if p.get_text().lstrip().startswith(q_number+'.'):\n",
    "                    ps_text.append(p.get_text().lstrip().split('.')[1])\n",
    "                    ps_idx.append(idx)\n",
    "                else:\n",
    "                    ps_text.append(p.get_text().lstrip().split('.')[0])\n",
    "                    ps_idx.append(idx)\n",
    "        else:\n",
    "            if q_number+\".\" in p.get_text():\n",
    "                if p.get_text().lstrip().startswith(q_number+\".\"):\n",
    "                    ps_text.append(p.get_text().lstrip().split('.')[1])\n",
    "                    ps_idx.append(idx)\n",
    "    if len(ps_idx)!=1:\n",
    "        return np.nan, np.nan\n",
    "    else:\n",
    "        return ps_text[0].replace(\"\\n\",\" \").strip(), ps_idx[0]"
   ]
  },
  {
   "cell_type": "code",
   "execution_count": null,
   "metadata": {
    "scrolled": true
   },
   "outputs": [],
   "source": [
    "s = (find_question('A2'))\n",
    "s"
   ]
  },
  {
   "cell_type": "code",
   "execution_count": null,
   "metadata": {
    "collapsed": true
   },
   "outputs": [],
   "source": [
    "def find_probe(q_number):\n",
    "    probe = re.findall('[A-Z]{,1}\\d{,2}', q_number)[0]\n",
    "    return find_question(probe)[0]"
   ]
  },
  {
   "cell_type": "code",
   "execution_count": null,
   "metadata": {},
   "outputs": [],
   "source": [
    "find_probe('B5A')"
   ]
  },
  {
   "cell_type": "code",
   "execution_count": null,
   "metadata": {
    "collapsed": true
   },
   "outputs": [],
   "source": [
    "#df.drop(['probe'],axis=1,inplace=True)"
   ]
  },
  {
   "cell_type": "code",
   "execution_count": null,
   "metadata": {
    "collapsed": true
   },
   "outputs": [],
   "source": [
    "df"
   ]
  },
  {
   "cell_type": "code",
   "execution_count": null,
   "metadata": {
    "collapsed": true,
    "scrolled": true
   },
   "outputs": [],
   "source": [
    "for i in range(len(df.question_number)):\n",
    "    q_number = df.loc[i,'question_number']\n",
    "    if re.match('^[A-Z]{,1}\\d{,2}', q_number):\n",
    "        df.loc[i,'probe'] = find_probe(q_number)\n",
    "    else:\n",
    "        df.loc[i,'probe'] = \"None\""
   ]
  },
  {
   "cell_type": "code",
   "execution_count": null,
   "metadata": {},
   "outputs": [],
   "source": [
    "df"
   ]
  },
  {
   "cell_type": "code",
   "execution_count": null,
   "metadata": {
    "collapsed": true
   },
   "outputs": [],
   "source": [
    "df['ps_text'], df['ps_idx'] = zip(*df['question_number'].map(find_question))"
   ]
  },
  {
   "cell_type": "code",
   "execution_count": null,
   "metadata": {
    "scrolled": true
   },
   "outputs": [],
   "source": [
    "df[24:29]"
   ]
  },
  {
   "cell_type": "code",
   "execution_count": null,
   "metadata": {},
   "outputs": [],
   "source": [
    "np.isnan(df.ps_idx).sum() #number of questions where the question number doesn't appear or appears more than once"
   ]
  },
  {
   "cell_type": "code",
   "execution_count": null,
   "metadata": {},
   "outputs": [],
   "source": [
    "print(df.ps_text[16])\n",
    "print(df.ps_idx[16])"
   ]
  },
  {
   "cell_type": "code",
   "execution_count": null,
   "metadata": {
    "collapsed": true
   },
   "outputs": [],
   "source": [
    "#get index of <p> tag for the next question so we can split the questions (can't just shift because some questions have more than one answer or missing values)\n",
    "all_idx=np.array(df.ps_idx)\n",
    "all_idx=all_idx[~np.isnan(all_idx)]\n",
    "all_idx=np.append(all_idx, [len(ps)])\n",
    "df['ps_idx_next']=df.ps_idx.apply(lambda x: all_idx[all_idx > x].min() if ~np.isnan(x) else np.nan)"
   ]
  },
  {
   "cell_type": "code",
   "execution_count": null,
   "metadata": {
    "scrolled": true
   },
   "outputs": [],
   "source": [
    "df[42:43]"
   ]
  },
  {
   "cell_type": "code",
   "execution_count": null,
   "metadata": {},
   "outputs": [],
   "source": [
    "a3=ps[105:110]\n",
    "a3"
   ]
  },
  {
   "cell_type": "code",
   "execution_count": null,
   "metadata": {
    "collapsed": true
   },
   "outputs": [],
   "source": [
    "consequitivedots = re.compile(r'\\.{3,}')"
   ]
  },
  {
   "cell_type": "code",
   "execution_count": null,
   "metadata": {
    "collapsed": true
   },
   "outputs": [],
   "source": [
    "combined = [(p.find_previous('p').get_text() + p.get_text()) for p in a3]\n"
   ]
  },
  {
   "cell_type": "code",
   "execution_count": null,
   "metadata": {},
   "outputs": [],
   "source": [
    "text = ''\n",
    "j = 0\n",
    "for p in a3:\n",
    "    print(j)\n",
    "    print(p.get_text())\n",
    "    text = text + ' ' + p.find_previous('p').get_text()\n",
    "    j += 1"
   ]
  },
  {
   "cell_type": "code",
   "execution_count": null,
   "metadata": {},
   "outputs": [],
   "source": [
    "print(text)"
   ]
  },
  {
   "cell_type": "markdown",
   "metadata": {},
   "source": [
    "test if lowercase letter, if so grab previous p as well."
   ]
  },
  {
   "cell_type": "code",
   "execution_count": null,
   "metadata": {
    "collapsed": true
   },
   "outputs": [],
   "source": [
    "answers = [p for p in a3 if len(p.find_all(string = consequitivedots))>0]"
   ]
  },
  {
   "cell_type": "code",
   "execution_count": null,
   "metadata": {
    "collapsed": true,
    "scrolled": true
   },
   "outputs": [],
   "source": [
    "type(answers[0])"
   ]
  },
  {
   "cell_type": "code",
   "execution_count": null,
   "metadata": {
    "collapsed": true,
    "scrolled": true
   },
   "outputs": [],
   "source": [
    "print(answers[0].prettify())"
   ]
  },
  {
   "cell_type": "code",
   "execution_count": null,
   "metadata": {
    "collapsed": true
   },
   "outputs": [],
   "source": [
    "test_answers = [p for p in a3 if len(p.find_all(string = consequitivedots))>0]\n",
    "for ans in test_answers:\n",
    "    if re.match('^[a-z]{1}', ans.get_text().split('.')[0]):\n",
    "        print(ans.find_previous('p').get_text() + ans.get_text().split('.')[0])\n",
    "        print(ans.get_text().split(\"(\")[0].split('.')[-1])\n",
    "    else:\n",
    "        print(ans.get_text().split('.')[0])\n",
    "        print(ans.get_text().split('.')[-1])"
   ]
  },
  {
   "cell_type": "code",
   "execution_count": null,
   "metadata": {
    "collapsed": true
   },
   "outputs": [],
   "source": [
    "def clean_text(string):\n",
    "    return string.replace(\"\\n\",\" \").strip()\n",
    "\n",
    "def get_pairs(p):\n",
    "    if re.match('^[a-z]{1}', p.get_text().split('..')[0]):\n",
    "        if re.match('[()]{1}', p.get_text().split('..')[-1]):\n",
    "            pairs = [p.find_previous('p').get_text() + ' ' + p.get_text().split('..')[0], p.get_text().split(\"(\")[0].split('..')[-1]]\n",
    "        else:\n",
    "            pairs = [p.find_previous('p').get_text() + ' ' + p.get_text().split('..')[0], p.get_text().split('..')[-1]]\n",
    "    else:\n",
    "        if re.match('[()]{1}', p.get_text().split('.')[-1]):\n",
    "            pairs = [p.get_text().split('..')[0], p.get_text().split(\"(\")[0].split('..')[-1] ]\n",
    "        else:\n",
    "            pairs = [p.get_text().split('..')[0], p.get_text().split('..')[-1]]\n",
    "    pairs = [clean_text(text) for text in pairs]\n",
    "    return pairs\n",
    "        \n",
    "def get_answers(start_idx,stop_idx):\n",
    "    if np.isnan(start_idx) or np.isnan(stop_idx):\n",
    "        return ([],0)\n",
    "    else:\n",
    "        answers = [p for p in ps[int(start_idx):int(stop_idx)] if len(p.find_all(string = consequitivedots))>0]\n",
    "        answers = [get_pairs(a) for a in answers]\n",
    "        return(answers, len(answers)) \n",
    "        "
   ]
  },
  {
   "cell_type": "code",
   "execution_count": null,
   "metadata": {},
   "outputs": [],
   "source": [
    "df['answers'], df['n_answers'] = zip(*map(get_answers, df['ps_idx'], df['ps_idx_next']))"
   ]
  },
  {
   "cell_type": "code",
   "execution_count": null,
   "metadata": {},
   "outputs": [],
   "source": [
    "(df['answers'][19])"
   ]
  },
  {
   "cell_type": "code",
   "execution_count": null,
   "metadata": {
    "collapsed": true
   },
   "outputs": [],
   "source": [
    "x = 0\n",
    "while x < len(df.answers):\n",
    "    ans = df.answers[x]\n",
    "    if len(ans) > 0:\n",
    "        for y in range(len(ans)):\n",
    "            df.loc[x,'val{0}'.format(y)] = ans[y][1] #create new 'val(y)' column\n",
    "            df.loc[x,'lab{0}'.format(y)] = ans[y][0] #create new 'lab(y)' column\n",
    "    x += 1"
   ]
  },
  {
   "cell_type": "code",
   "execution_count": null,
   "metadata": {
    "collapsed": true
   },
   "outputs": [],
   "source": [
    "def clean_answers(col):\n",
    "    col.str.replace('.','',1)"
   ]
  },
  {
   "cell_type": "code",
   "execution_count": null,
   "metadata": {
    "collapsed": true
   },
   "outputs": [],
   "source": [
    "values = []\n",
    "for i in range(0,18):\n",
    "    values = values + ['val{0}'.format(i)]\n",
    "    i += 1\n",
    "for v in values:\n",
    "    df[v] = df[v].map(lambda x: str(x))\n",
    "    df[v] = df[v].map(lambda x: x.lstrip('.').strip())"
   ]
  },
  {
   "cell_type": "code",
   "execution_count": null,
   "metadata": {},
   "outputs": [],
   "source": [
    "df['val0']"
   ]
  },
  {
   "cell_type": "code",
   "execution_count": null,
   "metadata": {
    "collapsed": true
   },
   "outputs": [],
   "source": [
    "i = 0\n",
    "while i < len(df.ps_text):\n",
    "    if df.multiple_answers[i] == 1:\n",
    "        df.loc[i,'val0'] = '1'\n",
    "        df.loc[i,'lab0'] = 'YES'\n",
    "        df.loc[i,'val1'] = '2'\n",
    "        df.loc[i,'lab1'] = 'NO'\n",
    "    i += 1"
   ]
  },
  {
   "cell_type": "code",
   "execution_count": null,
   "metadata": {
    "collapsed": true,
    "scrolled": true
   },
   "outputs": [],
   "source": [
    "df.drop(['answers','n_answers','question_number','ps_idx','ps_idx_next'],axis=1,inplace=True)"
   ]
  },
  {
   "cell_type": "code",
   "execution_count": null,
   "metadata": {},
   "outputs": [],
   "source": [
    "df.head(20)"
   ]
  },
  {
   "cell_type": "code",
   "execution_count": null,
   "metadata": {
    "collapsed": true
   },
   "outputs": [],
   "source": [
    "df.to_csv(path_or_buf = \"f1Qtext.csv\")"
   ]
  }
 ],
 "metadata": {
  "kernelspec": {
   "display_name": "Python 3",
   "language": "python",
   "name": "python3"
  },
  "language_info": {
   "codemirror_mode": {
    "name": "ipython",
    "version": 3
   },
   "file_extension": ".py",
   "mimetype": "text/x-python",
   "name": "python",
   "nbconvert_exporter": "python",
   "pygments_lexer": "ipython3",
   "version": "3.6.3"
  }
 },
 "nbformat": 4,
 "nbformat_minor": 2
}
