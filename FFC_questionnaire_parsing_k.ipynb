{
 "cells": [
  {
   "cell_type": "code",
   "execution_count": 1,
   "metadata": {
    "collapsed": true
   },
   "outputs": [],
   "source": [
    "from bs4 import BeautifulSoup\n",
    "import pandas as pd\n",
    "import re\n",
    "import numpy as np"
   ]
  },
  {
   "cell_type": "code",
   "execution_count": 2,
   "metadata": {},
   "outputs": [
    {
     "data": {
      "text/plain": [
       "'utf-8'"
      ]
     },
     "execution_count": 2,
     "metadata": {},
     "output_type": "execute_result"
    }
   ],
   "source": [
    "import sys\n",
    "sys.getdefaultencoding()"
   ]
  },
  {
   "cell_type": "markdown",
   "metadata": {},
   "source": [
    "Open the questionnaire file (word document version of the questionnaire saved as html):"
   ]
  },
  {
   "cell_type": "code",
   "execution_count": 3,
   "metadata": {
    "collapsed": true
   },
   "outputs": [],
   "source": [
    "questionnaire_file = open(\"FF_k5_Questionnaire.htm\", \"r\") "
   ]
  },
  {
   "cell_type": "code",
   "execution_count": 4,
   "metadata": {
    "collapsed": true
   },
   "outputs": [],
   "source": [
    "soup=BeautifulSoup(questionnaire_file, \"html.parser\")"
   ]
  },
  {
   "cell_type": "code",
   "execution_count": 5,
   "metadata": {
    "collapsed": true
   },
   "outputs": [],
   "source": [
    "ps=[p for p in soup.find_all('p')]"
   ]
  },
  {
   "cell_type": "code",
   "execution_count": 6,
   "metadata": {
    "collapsed": true
   },
   "outputs": [],
   "source": [
    "a1 = ps[156:162]"
   ]
  },
  {
   "cell_type": "markdown",
   "metadata": {},
   "source": [
    "Opening the excel file with all the questions for p6, using the pandas python library:"
   ]
  },
  {
   "cell_type": "code",
   "execution_count": 7,
   "metadata": {
    "collapsed": true
   },
   "outputs": [],
   "source": [
    "df=pd.read_excel(\"FFCk5.xlsx\") #this is an excel file with all the questions for p6"
   ]
  },
  {
   "cell_type": "code",
   "execution_count": 8,
   "metadata": {},
   "outputs": [
    {
     "data": {
      "text/plain": [
       "(102, 3)"
      ]
     },
     "execution_count": 8,
     "metadata": {},
     "output_type": "execute_result"
    }
   ],
   "source": [
    "df.shape"
   ]
  },
  {
   "cell_type": "code",
   "execution_count": 9,
   "metadata": {
    "collapsed": true
   },
   "outputs": [],
   "source": [
    "reg = re.compile(r'(?P<section>[A-Za-z]*\\d*)(?P<rest>.*)')\n",
    "\n",
    "def format_q_num(name):\n",
    "    \"\"\"takes in the question numbers in the name column and outputs them in the format\n",
    "    they appear in the text\"\"\"\n",
    "    name=name.replace('k5','') \n",
    "    name=reg.search(name)\n",
    "    section=name.group('section').upper()\n",
    "    rest=name.group('rest').upper()\n",
    "    return section+rest"
   ]
  },
  {
   "cell_type": "code",
   "execution_count": 10,
   "metadata": {
    "collapsed": true
   },
   "outputs": [],
   "source": [
    "df['question_number']=df.name.apply(lambda x: format_q_num(x))"
   ]
  },
  {
   "cell_type": "code",
   "execution_count": 11,
   "metadata": {
    "collapsed": true
   },
   "outputs": [],
   "source": [
    "def find_question(q_number):\n",
    "    \"\"\"finds where the question number appears in the text - only if it only appears once\"\"\"\n",
    "    ps_text = []\n",
    "    ps_idx = []\n",
    "    ps_startswith = []\n",
    "    for idx, p in enumerate(ps):\n",
    "        if q_number+\".\" in p.get_text():\n",
    "            if p.get_text() == q_number+'.':\n",
    "                ps_text.append(p.findNext('p').get_text().split('..')[0])\n",
    "                ps_idx.append(idx)\n",
    "            elif p.get_text().lstrip().startswith(q_number+\".\"):\n",
    "                ps_text.append(p.get_text().lstrip())\n",
    "                ps_idx.append(idx)\n",
    "    if len(ps_idx)!=1:\n",
    "        return np.nan, np.nan\n",
    "    else:\n",
    "        return ps_text[0].replace(\"\\n\",\"\").strip(), ps_idx[0]"
   ]
  },
  {
   "cell_type": "code",
   "execution_count": 12,
   "metadata": {
    "collapsed": true
   },
   "outputs": [],
   "source": [
    "def find_probe(q_number):\n",
    "    probe = re.findall('[A-Z]{,1}\\d{,2}', q_number)[0]\n",
    "    return find_question(probe)[0]"
   ]
  },
  {
   "cell_type": "code",
   "execution_count": 13,
   "metadata": {
    "collapsed": true
   },
   "outputs": [],
   "source": [
    "for i in range(len(df.question_number)):\n",
    "    q_number = df.loc[i,'question_number']\n",
    "    if re.match('^[A-Z]{,1}\\d{,2}', q_number):\n",
    "        df.loc[i,'probe'] = find_probe(q_number)\n",
    "    else:\n",
    "        df.loc[i,'probe'] = \"None\""
   ]
  },
  {
   "cell_type": "code",
   "execution_count": 14,
   "metadata": {},
   "outputs": [
    {
     "ename": "ValueError",
     "evalue": "not enough values to unpack (expected 3, got 2)",
     "output_type": "error",
     "traceback": [
      "\u001b[1;31m---------------------------------------------------------------------------\u001b[0m",
      "\u001b[1;31mValueError\u001b[0m                                Traceback (most recent call last)",
      "\u001b[1;32m<ipython-input-14-35f89e0f30d1>\u001b[0m in \u001b[0;36m<module>\u001b[1;34m()\u001b[0m\n\u001b[1;32m----> 1\u001b[1;33m \u001b[0mdf\u001b[0m\u001b[1;33m[\u001b[0m\u001b[1;34m'ps_text'\u001b[0m\u001b[1;33m]\u001b[0m\u001b[1;33m,\u001b[0m \u001b[0mdf\u001b[0m\u001b[1;33m[\u001b[0m\u001b[1;34m'ps_idx'\u001b[0m\u001b[1;33m]\u001b[0m\u001b[1;33m,\u001b[0m \u001b[0mdf\u001b[0m\u001b[1;33m[\u001b[0m\u001b[1;34m'box_flag'\u001b[0m\u001b[1;33m]\u001b[0m \u001b[1;33m=\u001b[0m \u001b[0mzip\u001b[0m\u001b[1;33m(\u001b[0m\u001b[1;33m*\u001b[0m\u001b[0mdf\u001b[0m\u001b[1;33m[\u001b[0m\u001b[1;34m'question_number'\u001b[0m\u001b[1;33m]\u001b[0m\u001b[1;33m.\u001b[0m\u001b[0mmap\u001b[0m\u001b[1;33m(\u001b[0m\u001b[0mfind_question\u001b[0m\u001b[1;33m)\u001b[0m\u001b[1;33m)\u001b[0m\u001b[1;33m\u001b[0m\u001b[0m\n\u001b[0m",
      "\u001b[1;31mValueError\u001b[0m: not enough values to unpack (expected 3, got 2)"
     ]
    }
   ],
   "source": [
    "df['ps_text'], df['ps_idx'], df['box_flag'] = zip(*df['question_number'].map(find_question))"
   ]
  },
  {
   "cell_type": "code",
   "execution_count": null,
   "metadata": {},
   "outputs": [],
   "source": [
    "np.isnan(df.ps_idx).sum() #number of questions where the question number doesn't appear or appears more than once"
   ]
  },
  {
   "cell_type": "code",
   "execution_count": null,
   "metadata": {},
   "outputs": [],
   "source": [
    "print(df.ps_text[11])\n",
    "print(df.ps_idx[11])"
   ]
  },
  {
   "cell_type": "code",
   "execution_count": null,
   "metadata": {
    "collapsed": true
   },
   "outputs": [],
   "source": [
    "#get index of <p> tag for the next question so we can split the questions (can't just shift because some questions have more than one answer or missing values)\n",
    "all_idx=np.array(df.ps_idx)\n",
    "all_idx=all_idx[~np.isnan(all_idx)]\n",
    "all_idx=np.append(all_idx, [len(ps)])\n",
    "df['ps_idx_next']=df.ps_idx.apply(lambda x: all_idx[all_idx > x].min() if ~np.isnan(x) else np.nan)"
   ]
  },
  {
   "cell_type": "code",
   "execution_count": null,
   "metadata": {
    "collapsed": true
   },
   "outputs": [],
   "source": [
    "consequitivedots = re.compile(r'\\.{3,}')"
   ]
  },
  {
   "cell_type": "code",
   "execution_count": null,
   "metadata": {
    "collapsed": true
   },
   "outputs": [],
   "source": [
    "def clean_text(string):\n",
    "    return string.replace(\"\\n\",\" \").strip()\n",
    "\n",
    "def get_answers(start_idx,stop_idx):\n",
    "    if np.isnan(start_idx) or np.isnan(stop_idx):\n",
    "        return ([],0)\n",
    "    else:\n",
    "        answers = [p for p in ps[int(start_idx):int(stop_idx)] if len(p.find_all(string = consequitivedots))>0]\n",
    "        answers = [(clean_text(a.get_text().split(\".\")[0]),clean_text(a.get_text().split(\".\")[-1])) for a in answers]\n",
    "        return(answers,len(answers)) "
   ]
  },
  {
   "cell_type": "code",
   "execution_count": null,
   "metadata": {
    "collapsed": true
   },
   "outputs": [],
   "source": [
    "df['answers'], df['n_answers'] = zip(*map(get_answers, df['ps_idx'], df['ps_idx_next']))"
   ]
  },
  {
   "cell_type": "code",
   "execution_count": null,
   "metadata": {
    "collapsed": true
   },
   "outputs": [],
   "source": [
    "x = 0\n",
    "while x < len(df.answers):\n",
    "    ans = df.answers[x]\n",
    "    for i in range(len(ans)): #for each answer choice,\n",
    "        s = ans[i][1]        # store number string\n",
    "        a = re.sub('à',' --> ', s) # sub the arrow in for skip pattern\n",
    "        t = (ans[i][0],a) # create a new tuple with arrow\n",
    "        ans[i] = t\n",
    "    for y in range(len(ans)):\n",
    "        df.loc[x,'val{0}'.format(y)] = ans[y][1] #create new 'val(y)' column\n",
    "        df.loc[x,'lab{0}'.format(y)] = ans[y][0] #create new 'lab(y)' column\n",
    "        \n",
    "    x += 1"
   ]
  },
  {
   "cell_type": "code",
   "execution_count": null,
   "metadata": {
    "collapsed": true,
    "scrolled": true
   },
   "outputs": [],
   "source": [
    "df.drop(['answers','n_answers','question_number','ps_idx','ps_idx_next'],axis=1,inplace=True)"
   ]
  },
  {
   "cell_type": "code",
   "execution_count": null,
   "metadata": {},
   "outputs": [],
   "source": [
    "df.head(20)"
   ]
  },
  {
   "cell_type": "code",
   "execution_count": null,
   "metadata": {
    "collapsed": true
   },
   "outputs": [],
   "source": [
    "df.to_csv(path_or_buf = \"k5Qtext.csv\")"
   ]
  },
  {
   "cell_type": "code",
   "execution_count": null,
   "metadata": {
    "collapsed": true
   },
   "outputs": [],
   "source": []
  }
 ],
 "metadata": {
  "kernelspec": {
   "display_name": "Python 3",
   "language": "python",
   "name": "python3"
  },
  "language_info": {
   "codemirror_mode": {
    "name": "ipython",
    "version": 3
   },
   "file_extension": ".py",
   "mimetype": "text/x-python",
   "name": "python",
   "nbconvert_exporter": "python",
   "pygments_lexer": "ipython3",
   "version": "3.6.3"
  }
 },
 "nbformat": 4,
 "nbformat_minor": 2
}
